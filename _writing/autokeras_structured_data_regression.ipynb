{
  "nbformat": 4,
  "nbformat_minor": 0,
  "metadata": {
    "colab": {
      "name": "autokeras_structured_data_regression.ipynb",
      "provenance": []
    },
    "kernelspec": {
      "name": "python3",
      "display_name": "Python 3"
    },
    "language_info": {
      "name": "python"
    }
  },
  "cells": [
    {
      "cell_type": "code",
      "metadata": {
        "colab": {
          "base_uri": "https://localhost:8080/"
        },
        "id": "PqbmZnetPU-l",
        "outputId": "7d69fe96-bbbd-4b01-ac66-94da90418fe7"
      },
      "source": [
        "# 1. 오토케라스 설치\n",
        "!pip install autokeras\n",
        "\n",
        "# 2. 패키지 가져오기\n",
        "import numpy as np\n",
        "import tensorflow as tf\n",
        "import pickle\n",
        "import pandas as pd\n",
        "import autokeras as ak\n",
        "\n",
        "# 3. 데이터 불러오기\n",
        "x_train = pd.read_pickle('X_train.pkl').to_numpy()\n",
        "y_train = pd.read_pickle('Y_train.pkl').to_numpy()\n",
        "x_test = pd.read_pickle('X_test.pkl').to_numpy()\n",
        "y_test = pd.read_pickle('Y_test.pkl').to_numpy()\n",
        "\n",
        "# 4. 모델 정의\n",
        "reg = ak.StructuredDataRegressor(max_trials=3, overwrite=True)\n",
        "\n",
        "# 5. 모델 학습\n",
        "reg.fit(x_train, y_train, epochs=10)\n",
        "\n",
        "# 6. 모델 평가\n",
        "result = reg.evaluate(x_test, y_test)\n",
        "print(result)"
      ],
      "execution_count": 4,
      "outputs": [
        {
          "output_type": "stream",
          "text": [
            "Trial 3 Complete [00h 00m 02s]\n",
            "val_loss: 0.375961571931839\n",
            "\n",
            "Best val_loss So Far: 0.2749149203300476\n",
            "Total elapsed time: 00h 00m 08s\n",
            "INFO:tensorflow:Oracle triggered exit\n",
            "Epoch 1/10\n",
            "10/10 [==============================] - 0s 3ms/step - loss: 0.4613 - mean_squared_error: 0.4613\n",
            "Epoch 2/10\n",
            "10/10 [==============================] - 0s 2ms/step - loss: 0.3806 - mean_squared_error: 0.3806\n",
            "Epoch 3/10\n",
            "10/10 [==============================] - 0s 2ms/step - loss: 0.3554 - mean_squared_error: 0.3554\n",
            "Epoch 4/10\n",
            "10/10 [==============================] - 0s 2ms/step - loss: 0.3337 - mean_squared_error: 0.3337\n",
            "Epoch 5/10\n",
            "10/10 [==============================] - 0s 3ms/step - loss: 0.3112 - mean_squared_error: 0.3112\n",
            "Epoch 6/10\n",
            "10/10 [==============================] - 0s 3ms/step - loss: 0.2893 - mean_squared_error: 0.2893\n",
            "Epoch 7/10\n",
            "10/10 [==============================] - 0s 3ms/step - loss: 0.2671 - mean_squared_error: 0.2671\n",
            "Epoch 8/10\n",
            "10/10 [==============================] - 0s 2ms/step - loss: 0.2450 - mean_squared_error: 0.2450\n",
            "Epoch 9/10\n",
            "10/10 [==============================] - 0s 2ms/step - loss: 0.2220 - mean_squared_error: 0.2220\n",
            "Epoch 10/10\n",
            "10/10 [==============================] - 0s 2ms/step - loss: 0.2009 - mean_squared_error: 0.2009\n",
            "INFO:tensorflow:Assets written to: ./structured_data_regressor/best_model/assets\n",
            "3/3 [==============================] - 0s 4ms/step - loss: 0.2209 - mean_squared_error: 0.2209\n",
            "[0.2208661586046219, 0.2208661586046219]\n"
          ],
          "name": "stdout"
        }
      ]
    }
  ]
}